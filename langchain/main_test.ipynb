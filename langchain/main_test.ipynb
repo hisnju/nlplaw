{
 "cells": [
  {
   "cell_type": "code",
   "execution_count": null,
   "metadata": {},
   "outputs": [],
   "source": []
  },
  {
   "cell_type": "markdown",
   "metadata": {},
   "source": [
    "## Answer by llm or pinecone (using langchain)"
   ]
  },
  {
   "cell_type": "code",
   "execution_count": 10,
   "metadata": {},
   "outputs": [
    {
     "name": "stdout",
     "output_type": "stream",
     "text": [
      "Initial pincone...\n",
      "Get question embedding...\n",
      "Search similarity from pinecone...\n",
      "Processing by llm !!!\n"
     ]
    },
    {
     "data": {
      "text/plain": [
       "' 宇宙的愛是一種無所不在的力量，它存在於每一個物質和生命之中。它是一種無私的奉獻和無條件的付出，它讓宇宙中的一切都能和諧共存。它是一種永恆的存在，不受時間和空間的限制。它可以是親情、友情、愛情，也可以是對生命的熱愛和對宇宙的敬畏。它是宇宙最強大的力量，能夠克服一切困難和挑戰，讓宇宙充滿和平與美好。宇宙的愛是無比偉大的，它讓我們感受到生命的意義和價值，讓我們感受到宇宙的神秘和'"
      ]
     },
     "execution_count": 10,
     "metadata": {},
     "output_type": "execute_result"
    }
   ],
   "source": [
    "from func_langchain import Rachel_langchain\n",
    "\n",
    "question = '宇宙的愛是怎樣的?'\n",
    "index_name = 'test01'\n",
    "namespace_name = 'result'\n",
    "\n",
    "test_rachel = Rachel_langchain()\n",
    "\n",
    "test_rachel.answer_question(question, index_name, namespace_name)"
   ]
  },
  {
   "cell_type": "code",
   "execution_count": 11,
   "metadata": {},
   "outputs": [
    {
     "name": "stdout",
     "output_type": "stream",
     "text": [
      "Initial pincone...\n",
      "Get question embedding...\n",
      "Search similarity from pinecone...\n"
     ]
    },
    {
     "ename": "KeyError",
     "evalue": "'text'",
     "output_type": "error",
     "traceback": [
      "\u001b[1;31m---------------------------------------------------------------------------\u001b[0m",
      "\u001b[1;31mKeyError\u001b[0m                                  Traceback (most recent call last)",
      "Cell \u001b[1;32mIn[11], line 1\u001b[0m\n\u001b[1;32m----> 1\u001b[0m \u001b[43mtest_rachel\u001b[49m\u001b[38;5;241;43m.\u001b[39;49m\u001b[43manswer_question\u001b[49m\u001b[43m(\u001b[49m\u001b[38;5;124;43m'\u001b[39;49m\u001b[38;5;124;43m所以說這句話的人是誰？\u001b[39;49m\u001b[38;5;124;43m'\u001b[39;49m\u001b[43m,\u001b[49m\u001b[43m \u001b[49m\u001b[43mindex_name\u001b[49m\u001b[43m,\u001b[49m\u001b[43m \u001b[49m\u001b[43mnamespace_name\u001b[49m\u001b[43m)\u001b[49m\n",
      "File \u001b[1;32mc:\\Users\\T14 Gen 3\\Desktop\\NLP-Project\\langchain\\func_langchain.py:129\u001b[0m, in \u001b[0;36mRachel_langchain.answer_question\u001b[1;34m(self, question, index_name, namespace_name)\u001b[0m\n\u001b[0;32m    128\u001b[0m \u001b[38;5;28;01mdef\u001b[39;00m \u001b[38;5;21manswer_question\u001b[39m(\u001b[38;5;28mself\u001b[39m, question: \u001b[38;5;28mstr\u001b[39m, index_name: \u001b[38;5;28mstr\u001b[39m, namespace_name: \u001b[38;5;28mstr\u001b[39m):\n\u001b[1;32m--> 129\u001b[0m     \u001b[38;5;28;01mif\u001b[39;00m \u001b[38;5;28;43mself\u001b[39;49m\u001b[38;5;241;43m.\u001b[39;49m\u001b[43mdecide_db_or_llm\u001b[49m\u001b[43m(\u001b[49m\u001b[43mquestion\u001b[49m\u001b[43m,\u001b[49m\u001b[43m \u001b[49m\u001b[43mindex_name\u001b[49m\u001b[43m,\u001b[49m\u001b[43m \u001b[49m\u001b[43mnamespace_name\u001b[49m\u001b[43m)\u001b[49m \u001b[38;5;241m==\u001b[39m \u001b[38;5;124m'\u001b[39m\u001b[38;5;124mdb\u001b[39m\u001b[38;5;124m'\u001b[39m:\n\u001b[0;32m    130\u001b[0m         \u001b[38;5;28mprint\u001b[39m(\u001b[38;5;124m'\u001b[39m\u001b[38;5;124mProcessing by database (pincone) !!!\u001b[39m\u001b[38;5;124m'\u001b[39m)\n\u001b[0;32m    131\u001b[0m         \u001b[38;5;28;01mreturn\u001b[39;00m \u001b[38;5;28mself\u001b[39m\u001b[38;5;241m.\u001b[39mprocess_by_db(question, \u001b[38;5;28;01mTrue\u001b[39;00m)\n",
      "File \u001b[1;32mc:\\Users\\T14 Gen 3\\Desktop\\NLP-Project\\langchain\\func_langchain.py:57\u001b[0m, in \u001b[0;36mRachel_langchain.decide_db_or_llm\u001b[1;34m(self, question, index_name, namespace_name)\u001b[0m\n\u001b[0;32m     55\u001b[0m \u001b[38;5;28;01mif\u001b[39;00m every_info[\u001b[38;5;124m'\u001b[39m\u001b[38;5;124mscore\u001b[39m\u001b[38;5;124m'\u001b[39m] \u001b[38;5;241m>\u001b[39m\u001b[38;5;241m=\u001b[39m \u001b[38;5;241m0.81\u001b[39m:\n\u001b[0;32m     56\u001b[0m     temp\u001b[38;5;241m=\u001b[39m{}\n\u001b[1;32m---> 57\u001b[0m     temp[\u001b[38;5;124m'\u001b[39m\u001b[38;5;124manswer\u001b[39m\u001b[38;5;124m'\u001b[39m]\u001b[38;5;241m=\u001b[39m\u001b[43mevery_info\u001b[49m\u001b[43m[\u001b[49m\u001b[38;5;124;43m'\u001b[39;49m\u001b[38;5;124;43mmetadata\u001b[39;49m\u001b[38;5;124;43m'\u001b[39;49m\u001b[43m]\u001b[49m\u001b[43m[\u001b[49m\u001b[38;5;124;43m'\u001b[39;49m\u001b[38;5;124;43mtext\u001b[39;49m\u001b[38;5;124;43m'\u001b[39;49m\u001b[43m]\u001b[49m\n\u001b[0;32m     59\u001b[0m     \u001b[38;5;66;03m# print(f\"question: {every_info['metadata']['question']}\")\u001b[39;00m\n\u001b[0;32m     60\u001b[0m     \u001b[38;5;66;03m# print(f\"score: {every_info['score']}\")\u001b[39;00m\n\u001b[0;32m     62\u001b[0m     \u001b[38;5;28mself\u001b[39m\u001b[38;5;241m.\u001b[39msimilarity_matches\u001b[38;5;241m.\u001b[39mappend(temp)\n",
      "\u001b[1;31mKeyError\u001b[0m: 'text'"
     ]
    }
   ],
   "source": [
    "test_rachel.answer_question('所以說這句話的人是誰？', index_name, namespace_name)"
   ]
  },
  {
   "cell_type": "code",
   "execution_count": null,
   "metadata": {},
   "outputs": [],
   "source": [
    "test_rachel.answer_question('這個男的跟女的是什麼關係？', index_name, namespace_name)"
   ]
  },
  {
   "cell_type": "code",
   "execution_count": null,
   "metadata": {},
   "outputs": [],
   "source": [
    "test_rachel.answer_question('命運的交織是什麼意思 我想要chatgpt幫我回答？', index_name, namespace_name)"
   ]
  },
  {
   "cell_type": "code",
   "execution_count": null,
   "metadata": {},
   "outputs": [],
   "source": [
    "print(test_rachel)"
   ]
  }
 ],
 "metadata": {
  "kernelspec": {
   "display_name": "env_weed",
   "language": "python",
   "name": "python3"
  },
  "language_info": {
   "codemirror_mode": {
    "name": "ipython",
    "version": 3
   },
   "file_extension": ".py",
   "mimetype": "text/x-python",
   "name": "python",
   "nbconvert_exporter": "python",
   "pygments_lexer": "ipython3",
   "version": "3.10.11"
  }
 },
 "nbformat": 4,
 "nbformat_minor": 2
}
